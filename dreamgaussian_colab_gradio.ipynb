{
  "cells": [
    {
      "cell_type": "markdown",
      "metadata": {
        "id": "view-in-github"
      },
      "source": [
        "[![Open In Colab](https://colab.research.google.com/assets/colab-badge.svg)](https://colab.research.google.com/github/camenduru/dreamgaussian-colab/blob/main/dreamgaussian_colab.ipynb)"
      ]
    },
    {
      "cell_type": "code",
      "execution_count": null,
      "metadata": {
        "id": "VjYy0F2gZIPR"
      },
      "outputs": [],
      "source": [
        "%cd /content\n",
        "!git clone -b dev https://github.com/camenduru/dreamgaussian\n",
        "\n",
        "!pip install -q torch-ema einops tensorboardX plyfile dearpygui huggingface_hub diffusers accelerate transformers xatlas \n",
        "!pip install -q trimesh PyMCubes pymeshlab rembg[gpu,cli] omegaconf ninja gradio\n",
        "!pip install -q https://github.com/camenduru/diff-gaussian-rasterization/releases/download/v1.0/diff_gaussian_rasterization-0.0.0-cp310-cp310-linux_x86_64.1.whl\n",
        "!pip install -q https://github.com/camenduru/diff-gaussian-rasterization/releases/download/v1.0/simple_knn-0.0.0-cp310-cp310-linux_x86_64.1.whl\n",
        "!pip install -q https://github.com/camenduru/diff-gaussian-rasterization/releases/download/v1.0/nvdiffrast-0.3.1-py3-none-any.whl\n",
        "!pip install -q https://github.com/camenduru/diff-gaussian-rasterization/releases/download/v1.0/kiui-0.1.8-py3-none-any.whl\n",
        "!apt install -qq -y xvfb\n",
        "\n",
        "%cd /content/dreamgaussian\n",
        "\n",
        "import re\n",
        "import subprocess\n",
        "import gradio as gr\n",
        "\n",
        "def create_from_text(prompt):\n",
        "    sanitized_prompt = re.sub('[^0-9a-zA-Z]+', '_', prompt)\n",
        "    cmd1 = [\"python\", \"main.py\", \"--config\", \"configs/text.yaml\", f\"prompt={prompt}\", f\"save_path={sanitized_prompt}\"]\n",
        "    cmd2 = [\"python\", \"main2.py\", \"--config\", \"configs/text.yaml\", f\"prompt={prompt}\", f\"save_path={sanitized_prompt}\"]\n",
        "    cmd3 = [\"xvfb-run\", \"python\", \"-m\", \"kiui.render\", f\"logs/{sanitized_prompt}.obj\", \"--save_video\", f\"{sanitized_prompt}.mp4\"]\n",
        "    subprocess.run(cmd1)\n",
        "    subprocess.run(cmd2)\n",
        "    subprocess.run(cmd3)\n",
        "    return f\"{sanitized_prompt}.mp4\"\n",
        "\n",
        "def create_from_image(image):\n",
        "    sanitized_prompt = 'image'\n",
        "    image.save(f\"{sanitized_prompt}.png\")\n",
        "    cmd1 = [\"python\", \"process.py\", f\"{sanitized_prompt}.png\", \"--size\", \"512\"] # <<< 256 may be a good default\n",
        "    cmd2 = [\"python\", \"main.py\", \"--config\", \"configs/image.yaml\", f\"input={sanitized_prompt}_rgba.png\", f\"save_path={sanitized_prompt}\"]\n",
        "    cmd3 = [\"python\", \"main2.py\", \"--config\", \"configs/image.yaml\", f\"input={sanitized_prompt}_rgba.png\", f\"save_path={sanitized_prompt}\"]\n",
        "    cmd4 = [\"xvfb-run\", \"python\", \"-m\", \"kiui.render\", f\"logs/{sanitized_prompt}.obj\", \"--save_video\", f\"{sanitized_prompt}.mp4\"]\n",
        "    subprocess.run(cmd1)\n",
        "    subprocess.run(cmd2)\n",
        "    subprocess.run(cmd3)\n",
        "    subprocess.run(cmd4)\n",
        "    return f\"{sanitized_prompt}.mp4\"\n",
        "\n",
        "with gr.Blocks() as demo:\n",
        "    prompt = gr.Textbox(lines=2, placeholder=\"Enter Prompt...\")\n",
        "    image = gr.Image(type=\"pil\", label=\"Image\")\n",
        "    btn = gr.Button(\"Generate from text\")\n",
        "    btn_2 = gr.Button(\"Generate from image\")\n",
        "    video = gr.Video(type=\"mp4\")\n",
        "    btn.click(create_from_text, inputs=prompt, outputs=video)\n",
        "    btn_2.click(create_from_image, inputs=image, outputs=video)\n",
        "    \n",
        "demo.queue().launch(share=True, inline=False, debug=True)"
      ]
    }
  ],
  "metadata": {
    "accelerator": "GPU",
    "colab": {
      "gpuType": "T4",
      "provenance": []
    },
    "kernelspec": {
      "display_name": "Python 3",
      "name": "python3"
    },
    "language_info": {
      "name": "python"
    }
  },
  "nbformat": 4,
  "nbformat_minor": 0
}
