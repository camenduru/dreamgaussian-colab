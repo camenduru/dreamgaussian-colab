{
  "cells": [
    {
      "cell_type": "markdown",
      "metadata": {
        "id": "view-in-github"
      },
      "source": [
        "[![Open In Colab](https://colab.research.google.com/assets/colab-badge.svg)](https://colab.research.google.com/github/camenduru/dreamgaussian-colab/blob/main/dreamgaussian_colab.ipynb)"
      ]
    },
    {
      "cell_type": "code",
      "execution_count": null,
      "metadata": {
        "id": "VjYy0F2gZIPR"
      },
      "outputs": [],
      "source": [
        "%cd /content\n",
        "!git clone -b dev https://github.com/camenduru/dreamgaussian\n",
        "\n",
        "!pip install -q torch-ema einops tensorboardX plyfile dearpygui huggingface_hub diffusers accelerate transformers xatlas \n",
        "!pip install -q trimesh PyMCubes pymeshlab rembg[gpu,cli] omegaconf ninja\n",
        "%cd /content/dreamgaussian\n",
        "!git clone --recursive https://github.com/ashawkey/diff-gaussian-rasterization\n",
        "!pip install -q ./diff-gaussian-rasterization\n",
        "!pip install -q ./simple-knn\n",
        "!pip install -q https://github.com/camenduru/wheels/releases/download/colab/nvdiffrast-0.3.1-py3-none-any.whl\n",
        "!pip install -q git+https://github.com/ashawkey/kiuikit"
      ]
    },
    {
      "cell_type": "code",
      "execution_count": null,
      "metadata": {},
      "outputs": [],
      "source": [
        "%cd /content/dreamgaussian\n",
        "!python main.py --config configs/text.yaml prompt=\"a photo of an icecream\" save_path=icecream"
      ]
    }
  ],
  "metadata": {
    "accelerator": "GPU",
    "colab": {
      "gpuType": "T4",
      "provenance": []
    },
    "kernelspec": {
      "display_name": "Python 3",
      "name": "python3"
    },
    "language_info": {
      "name": "python"
    }
  },
  "nbformat": 4,
  "nbformat_minor": 0
}
